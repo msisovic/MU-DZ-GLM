{
 "cells": [
  {
   "cell_type": "markdown",
   "metadata": {},
   "source": [
    "# Zadatak 2\n",
    "#### Marko Šišović, 2024/3104"
   ]
  },
  {
   "cell_type": "code",
   "execution_count": 1,
   "metadata": {},
   "outputs": [],
   "source": [
    "import numpy as np\n",
    "import matplotlib.pyplot as plt"
   ]
  },
  {
   "cell_type": "code",
   "execution_count": 2,
   "metadata": {},
   "outputs": [],
   "source": [
    "np.random.seed(42)"
   ]
  },
  {
   "cell_type": "markdown",
   "metadata": {},
   "source": [
    "Učitajmo najpre podatke iz .csv datoteke. Podelićemo date podatke na matricu $x$, koja predstavlja matricu prediktora, kao i vektor $y$, koji predstavlja klasu. Dodatno, nasumično ćemo promešati date podatke, kao i podeliti ih na trening i test skup, u odnosu $80:20$. Na kraju koda ispisujemo dimenzionalnosti prethodno pomenutih elemenata, kako bismo se uverili u njihovo poklapanje."
   ]
  },
  {
   "cell_type": "code",
   "execution_count": null,
   "metadata": {},
   "outputs": [
    {
     "name": "stdout",
     "output_type": "stream",
     "text": [
      "(142, 5) (142,) (36, 5) (36,)\n"
     ]
    }
   ],
   "source": [
    "data = np.loadtxt(\"../data-class.csv\", delimiter=\",\")\n",
    "x, y = data[:, :-1], data[:, -1]\n",
    "\n",
    "split_ratio = 0.8\n",
    "\n",
    "split_index = int(len(x) * split_ratio)\n",
    "\n",
    "indices = np.random.permutation(len(x))\n",
    "x, y = x[indices], y[indices]\n",
    "\n",
    "x_train, x_test = x[:split_index], x[split_index:]\n",
    "y_train, y_test = y[:split_index], y[split_index:]\n",
    "\n",
    "print(x_train.shape, y_train.shape, x_test.shape, y_test.shape)"
   ]
  },
  {
   "cell_type": "code",
   "execution_count": 75,
   "metadata": {},
   "outputs": [],
   "source": [
    "import numpy as np\n",
    "import matplotlib.pyplot as plt\n",
    "\n",
    "class LogisticRegressionMultiClass:\n",
    "    def __init__(self, num_classes, num_features, alpha=0.01, mb=32, tolerance=1e-6):\n",
    "        self.num_classes = num_classes\n",
    "        self.num_features = num_features\n",
    "        self.alpha = alpha\n",
    "        self.mb = mb\n",
    "        self.tolerance = tolerance\n",
    "        self.weights = np.zeros((num_classes, num_features + 1))\n",
    "        self.log_likelihoods = [[] for _ in range(num_classes)]\n",
    "        self.epochs_per_class = [0] * num_classes\n",
    "\n",
    "    def _add_bias(self, x):\n",
    "        return np.hstack((np.ones((x.shape[0], 1)), x))\n",
    "\n",
    "    def _sigmoid(self, z):\n",
    "        return 1 / (1 + np.exp(-z))\n",
    "\n",
    "    def _compute_gradient(self, x, y_one_hot, y_pred):\n",
    "        return np.dot((y_one_hot - y_pred).T, x)\n",
    "\n",
    "    def _compute_log_likelihood(self, x, y, weights):\n",
    "        z = np.dot(x, weights.T)\n",
    "        y_pred = self._sigmoid(z)\n",
    "        return np.sum(y * np.log(y_pred + 1e-10) + (1 - y) * np.log(1 - y_pred + 1e-10))\n",
    "    \n",
    "    def _standardize(self, x, is_train=True):\n",
    "        if is_train:\n",
    "            self.mean = np.mean(x, axis=0)\n",
    "            self.std = np.std(x, axis=0)\n",
    "        return (x - self.mean) / (self.std + 1e-10)\n",
    "\n",
    "    def fit(self, x, y, max_epochs=1000, converge_treshold = 10):\n",
    "        x = self._standardize(x, is_train=True)\n",
    "        x = self._add_bias(x)\n",
    "        y_one_hot = np.eye(self.num_classes)[y.astype(int)]\n",
    "        for class_index in range(self.num_classes):\n",
    "            class_weights = self.weights[class_index]\n",
    "            prev_log_likelihood = -np.inf\n",
    "            converge_cnt = 0\n",
    "            for epoch in range(max_epochs):\n",
    "                indices = np.random.permutation(len(x))\n",
    "                x, y_one_hot = x[indices], y_one_hot[indices]\n",
    "                y_binary = y_one_hot[:, class_index]\n",
    "                \n",
    "                start = 0\n",
    "                end = start + self.mb\n",
    "                x_batch, y_batch = x[start:end], y_binary[start:end]\n",
    "                z = np.dot(x_batch, class_weights)\n",
    "                y_pred = self._sigmoid(z)\n",
    "                gradient = np.dot((y_batch - y_pred), x_batch)\n",
    "                class_weights += self.alpha * gradient\n",
    "                \n",
    "                log_likelihood = self._compute_log_likelihood(x, y_binary, class_weights)\n",
    "                self.log_likelihoods[class_index].append(log_likelihood)\n",
    "                if np.abs(log_likelihood - prev_log_likelihood) < self.tolerance:\n",
    "                    converge_cnt += 1\n",
    "                    if converge_cnt >= converge_treshold:\n",
    "                        break\n",
    "                else:\n",
    "                    converge_cnt\n",
    "                prev_log_likelihood = log_likelihood\n",
    "            self.epochs_per_class[class_index] = len(self.log_likelihoods[class_index])\n",
    "            self.weights[class_index] = class_weights\n",
    "\n",
    "    def predict(self, x):\n",
    "        x = self._standardize(x, is_train=False)\n",
    "        x = self._add_bias(x)\n",
    "        z = np.dot(x, self.weights.T)\n",
    "        y_pred = self._sigmoid(z)\n",
    "        return np.argmax(y_pred, axis=1)\n",
    "\n",
    "    def predict_proba(self, x):\n",
    "        x = self._standardize(x, is_train=False)\n",
    "        x = self._add_bias(x)\n",
    "        z = np.dot(x, self.weights.T)\n",
    "        return self._sigmoid(z)"
   ]
  },
  {
   "cell_type": "code",
   "execution_count": 112,
   "metadata": {},
   "outputs": [
    {
     "ename": "IndexError",
     "evalue": "too many indices for array: array is 1-dimensional, but 2 were indexed",
     "output_type": "error",
     "traceback": [
      "\u001b[0;31m---------------------------------------------------------------------------\u001b[0m",
      "\u001b[0;31mIndexError\u001b[0m                                Traceback (most recent call last)",
      "Cell \u001b[0;32mIn[112], line 23\u001b[0m\n\u001b[1;32m     19\u001b[0m         best_avg_log_likelihood \u001b[38;5;241m=\u001b[39m \u001b[38;5;28mmin\u001b[39m(best_avg_log_likelihood, avg_log_likelihood)\n\u001b[1;32m     21\u001b[0m         results \u001b[38;5;241m=\u001b[39m np\u001b[38;5;241m.\u001b[39mconcatenate((results, np\u001b[38;5;241m.\u001b[39marray([alpha, mb, avg_iterations, avg_log_likelihood])), axis \u001b[38;5;241m=\u001b[39m \u001b[38;5;241m0\u001b[39m)\n\u001b[0;32m---> 23\u001b[0m best_avg_log_likelihood \u001b[38;5;241m=\u001b[39m np\u001b[38;5;241m.\u001b[39mmax(\u001b[43mresults\u001b[49m\u001b[43m[\u001b[49m\u001b[43m:\u001b[49m\u001b[43m,\u001b[49m\u001b[43m \u001b[49m\u001b[38;5;241;43m3\u001b[39;49m\u001b[43m]\u001b[49m)\n\u001b[1;32m     25\u001b[0m condition \u001b[38;5;241m=\u001b[39m results[:, \u001b[38;5;241m3\u001b[39m] \u001b[38;5;241m>\u001b[39m best_avg_log_likelihood \u001b[38;5;241m-\u001b[39m log_likelihood_tolerance\n\u001b[1;32m     26\u001b[0m results \u001b[38;5;241m=\u001b[39m data[condition, :]\n",
      "\u001b[0;31mIndexError\u001b[0m: too many indices for array: array is 1-dimensional, but 2 were indexed"
     ]
    }
   ],
   "source": [
    "num_classes = 3\n",
    "num_features = x_train.shape[1]\n",
    "alpha_arr = np.linspace(0.01, 5, 25)\n",
    "mb_arr = np.linspace(1, 8, 8, dtype=int)\n",
    "max_epochs = 10000\n",
    "converge_treshold = 10\n",
    "tolerance = 1e-6\n",
    "\n",
    "log_likelihood_tolerance = 1\n",
    "min_avg_iterations = np.inf\n",
    "best_avg_log_likelihood = -np.inf\n",
    "results = np.array([])\n",
    "for alpha in alpha_arr:\n",
    "    for mb in mb_arr:\n",
    "        model = LogisticRegressionMultiClass(num_classes, num_features, alpha, mb, tolerance)\n",
    "        model.fit(x_train, y_train, max_epochs, converge_treshold)\n",
    "        avg_iterations = np.mean(model.epochs_per_class)*mb\n",
    "        avg_log_likelihood = np.mean([ll_arr[-1] for ll_arr in model.log_likelihoods])\n",
    "        best_avg_log_likelihood = min(best_avg_log_likelihood, avg_log_likelihood)\n",
    "        \n",
    "        results = np.concatenate((results, np.array([alpha, mb, avg_iterations, avg_log_likelihood])), axis = 0)\n",
    "\n",
    "best_avg_log_likelihood = np.max(results[:, 3])\n",
    "\n",
    "condition = results[:, 3] > best_avg_log_likelihood - log_likelihood_tolerance\n",
    "results = data[condition, :]\n",
    "print(condition, results)\n",
    "argmin_idx = np.argmin(results[:, 2])\n",
    "alpha_best, mb_best, min_avg_iterations = results[argmin_idx, :3]\n",
    "\n",
    "print(alpha_best, mb_best, min_avg_iterations, best_avg_log_likelihood)\n",
    "print(results)"
   ]
  },
  {
   "cell_type": "code",
   "execution_count": null,
   "metadata": {},
   "outputs": [
    {
     "name": "stdout",
     "output_type": "stream",
     "text": [
      "Test Accuracy: 0.8889\n"
     ]
    },
    {
     "data": {
      "image/png": "[encoded data removed]",
      "text/plain": [
       "<Figure size 640x480 with 1 Axes>"
      ]
     },
     "metadata": {},
     "output_type": "display_data"
    }
   ],
   "source": [
    "# mb_best, alpha_best = 16, 0.1\n",
    "\n",
    "model = LogisticRegressionMultiClass(num_classes, num_features, alpha_best, mb_best, tolerance)\n",
    "model.fit(x_train, y_train, max_epochs, converge_treshold)\n",
    "\n",
    "y_pred = model.predict(x_test)\n",
    "accuracy = np.mean(y_pred == y_test)\n",
    "print(f\"Test Accuracy: {accuracy:.4f}\")\n",
    "\n",
    "for class_index in range(num_classes):\n",
    "    plt.plot(np.array(range(model.epochs_per_class[class_index]))*model.mb, model.log_likelihoods[class_index], label=f\"Class {class_index}\")\n",
    "plt.xlabel(\"Epochs\")\n",
    "plt.ylabel(\"Log-Likelihood\")\n",
    "plt.title(\"Log-Likelihood over Epochs (per class)\")\n",
    "plt.legend()\n",
    "plt.show()"
   ]
  }
 ],
 "metadata": {
  "kernelspec": {
   "display_name": ".venv",
   "language": "python",
   "name": "python3"
  },
  "language_info": {
   "codemirror_mode": {
    "name": "ipython",
    "version": 3
   },
   "file_extension": ".py",
   "mimetype": "text/x-python",
   "name": "python",
   "nbconvert_exporter": "python",
   "pygments_lexer": "ipython3",
   "version": "3.12.3"
  }
 },
 "nbformat": 4,
 "nbformat_minor": 2
}
